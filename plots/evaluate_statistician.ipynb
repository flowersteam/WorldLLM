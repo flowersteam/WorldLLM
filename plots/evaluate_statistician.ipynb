{
    "cells": [
        {
            "cell_type": "code",
            "execution_count": 1,
            "metadata": {},
            "outputs": [],
            "source": [
                "import json\n",
                "import numpy as np\n",
                "import matplotlib.pyplot as plt\n",
                "import os"
            ]
        },
        {
            "cell_type": "code",
            "execution_count": 2,
            "metadata": {
                "vscode": {
                    "languageId": "ruby"
                }
            },
            "outputs": [],
            "source": [
                "#Load jsons\n",
                "dict_success_rate = {}\n",
                "dict_data = {}\n",
                "dict_time_to_success = {}\n",
                "for file in os.listdir(\"../eval_results/\"):\n",
                "    if file.endswith(\".json\"):\n",
                "        with open(\"../eval_results/\"+file) as json_file:\n",
                "            data = json.load(json_file)\n",
                "            if data[\"stat_rule\"] not in dict_success_rate:\n",
                "                dict_success_rate[data[\"stat_rule\"]] = {}\n",
                "                dict_data[data[\"stat_rule\"]] = {}\n",
                "                dict_time_to_success[data[\"stat_rule\"]] = {}\n",
                "            dict_success_rate[data[\"stat_rule\"]][data[\"goal\"]] = data[\"success_rate\"]\n",
                "            dict_data[data[\"stat_rule\"]][data[\"goal\"]] = data\n",
                "            dict_time_to_success[data[\"stat_rule\"]][data[\"goal\"]] = data[\"time_to_reach_goal\"]\n"
            ]
        },
        {
            "cell_type": "code",
            "execution_count": 3,
            "metadata": {},
            "outputs": [
                {
                    "name": "stdout",
                    "output_type": "stream",
                    "text": [
                        "stat_rule:  None\n",
                        "grow any plant :  0.7 time_to_success:  13.114285714285714\n",
                        "grow any small_herbivorous :  0.04 time_to_success:  25.0\n",
                        "grow any big_herbivorous :  0.0 time_to_success:  nan\n",
                        "grow any small_herbivorous then grow any big_herbivorous :  0.0 time_to_success:  nan\n",
                        "stat_rule:  '1. Water does not change when interacted with.\\n2. Only the object being interacted with can change its kind when interacted with.\\n3. Vegetable seeds become their corresponding vegetables when watered.\\n4. Identical vegetables, when combined, transform into a single vegetable.\\n5. Holding identical baby animals results in a single object of that animal\\'0;0000024e18000000\"\\na: you go to the water\\na: you are standing on the water\\na: you pick up the object\\na: you are holding the water\\na: you go to the potato seed\\na: you are standing on the potato seed\\na: you give the water\\na: the water and potato seed transform into the potato\\na: you pick up the object\\na: you are holding the potato\\na: you go to'\n",
                        "grow any plant :  0.8 time_to_success:  13.95\n",
                        "grow any small_herbivorous :  0.1 time_to_success:  25.0\n",
                        "grow any big_herbivorous :  0.0 time_to_success:  nan\n",
                        "grow any small_herbivorous then grow any big_herbivorous :  0.0 time_to_success:  nan\n",
                        "stat_rule:  '1. Always interact with water first: Move to water (`a: You go to the water. o: You are standing on the water.`).\\n2. Collect the object: Pick it up after you are on or near water (`a: You pick up the object. o: You are holding the water.`).\\n3. Encounter transformations: Seeds transform into their respective fruits/vegetables; only then do they interact with water. Note the type of object is crucial for transformation (`a: You give the water. o: The object and water transform into the object.`).\\n4. If no water, stay put and interact when in proximity or on water.\\n5. When all objects are on water, pick those up; if you do nothing, no interaction occurs (`a: You go to the [object]. o: If on water, you may pick it up, otherwise, genuin0`¦'\n",
                        "grow any plant :  0.64 time_to_success:  18.46875\n",
                        "grow any small_herbivorous :  0.04 time_to_success:  17.5\n",
                        "grow any big_herbivorous :  0.0 time_to_success:  nan\n",
                        "grow any small_herbivorous then grow any big_herbivorous :  0.0 time_to_success:  nan\n"
                    ]
                },
                {
                    "name": "stderr",
                    "output_type": "stream",
                    "text": [
                        "/home/guillaumelevy/Documents/WorldLLM/.venv/lib/python3.10/site-packages/numpy/core/fromnumeric.py:3504: RuntimeWarning: Mean of empty slice.\n",
                        "  return _methods._mean(a, axis=axis, dtype=dtype,\n",
                        "/home/guillaumelevy/Documents/WorldLLM/.venv/lib/python3.10/site-packages/numpy/core/_methods.py:129: RuntimeWarning: invalid value encountered in scalar divide\n",
                        "  ret = ret.dtype.type(ret / rcount)\n"
                    ]
                }
            ],
            "source": [
                "\n",
                "lst_stat_rules= [\n",
                "        None,\n",
                "        \"1. Water does not change when interacted with.\\n2. Only the object being interacted with can change its kind when interacted with.\\n3. Vegetable seeds become their corresponding vegetables when watered.\\n4. Identical vegetables, when combined, transform into a single vegetable.\\n5. Holding identical baby animals results in a single object of that animal'0;0000024e18000000\\\"\\na: you go to the water\\na: you are standing on the water\\na: you pick up the object\\na: you are holding the water\\na: you go to the potato seed\\na: you are standing on the potato seed\\na: you give the water\\na: the water and potato seed transform into the potato\\na: you pick up the object\\na: you are holding the potato\\na: you go to\",\n",
                "        \"1. Always interact with water first: Move to water (`a: You go to the water. o: You are standing on the water.`).\\n2. Collect the object: Pick it up after you are on or near water (`a: You pick up the object. o: You are holding the water.`).\\n3. Encounter transformations: Seeds transform into their respective fruits/vegetables; only then do they interact with water. Note the type of object is crucial for transformation (`a: You give the water. o: The object and water transform into the object.`).\\n4. If no water, stay put and interact when in proximity or on water.\\n5. When all objects are on water, pick those up; if you do nothing, no interaction occurs (`a: You go to the [object]. o: If on water, you may pick it up, otherwise, genuin0`¦\",\n",
                "    ]\n",
                "lst_goals = [\"grow any plant\", \"grow any small_herbivorous\", \"grow any big_herbivorous\", \"grow any small_herbivorous then grow any big_herbivorous\"]\n",
                "\n",
                "for stat_rule in lst_stat_rules:\n",
                "    print(\"stat_rule: \", repr(stat_rule))\n",
                "    for goal in lst_goals:\n",
                "        success_ind= np.where(np.array(dict_success_rate[stat_rule][goal]) == 1)[0]\n",
                "        mean_time_to_success= np.mean(np.array(dict_time_to_success[stat_rule][goal])[success_ind])\n",
                "        print(goal,\": \",np.mean(dict_success_rate[stat_rule][goal]), \"time_to_success: \", mean_time_to_success)"
            ]
        },
        {
            "cell_type": "code",
            "execution_count": 4,
            "metadata": {},
            "outputs": [
                {
                    "data": {
                        "text/plain": [
                            "['You see the baby sheep, the water, the berry seed, the carrot seed, the pea seed, the carrot seed, the baby giraffe and the carrot seed. You are standing on nothing. Your are holding nothing.',\n",
                            " 'You go to the baby giraffe.',\n",
                            " 'You are standing on the baby giraffe.',\n",
                            " 'You go to the baby sheep.',\n",
                            " 'You are standing on the baby sheep.',\n",
                            " 'You go to the baby sheep.',\n",
                            " 'Nothing has changed.',\n",
                            " 'You go to the baby sheep.',\n",
                            " 'Nothing has changed.',\n",
                            " 'You go to the water.',\n",
                            " 'You are standing on the water.',\n",
                            " 'You go to the carrot seed.',\n",
                            " 'You are standing on the carrot seed.',\n",
                            " 'You pick up the object.',\n",
                            " 'You are holding the carrot seed.',\n",
                            " 'You give the carrot seed.',\n",
                            " 'Nothing has changed.',\n",
                            " 'You give the carrot seed.',\n",
                            " 'Nothing has changed.',\n",
                            " 'You pick up the object.',\n",
                            " 'Nothing has changed.',\n",
                            " 'You go to the water.',\n",
                            " 'You are standing on the water.',\n",
                            " 'You go to the pea seed.',\n",
                            " 'You are standing on the pea seed.',\n",
                            " 'You go to the water.',\n",
                            " 'You are standing on the water.',\n",
                            " 'You go to the baby giraffe.',\n",
                            " 'You are standing on the baby giraffe.',\n",
                            " 'You go to the baby sheep.',\n",
                            " 'You are standing on the baby sheep.',\n",
                            " 'You give the carrot seed.',\n",
                            " 'Nothing has changed.',\n",
                            " 'You give the carrot seed.',\n",
                            " 'Nothing has changed.',\n",
                            " 'You give the carrot seed.',\n",
                            " 'Nothing has changed.',\n",
                            " 'You give the carrot seed.',\n",
                            " 'Nothing has changed.',\n",
                            " 'You give the carrot seed.',\n",
                            " 'Nothing has changed.',\n",
                            " 'You give the carrot seed.',\n",
                            " 'Nothing has changed.',\n",
                            " 'You give the carrot seed.',\n",
                            " 'Nothing has changed.',\n",
                            " 'You give the carrot seed.',\n",
                            " 'Nothing has changed.',\n",
                            " 'You give the carrot seed.',\n",
                            " 'Nothing has changed.',\n",
                            " 'You give the carrot seed.',\n",
                            " 'Nothing has changed.',\n",
                            " 'You go to the baby sheep.',\n",
                            " 'Nothing has changed.',\n",
                            " 'You go to the baby sheep.',\n",
                            " 'Nothing has changed.',\n",
                            " 'You pick up the object.',\n",
                            " 'You are holding the carrot seed and the baby sheep.',\n",
                            " 'You give the baby sheep.',\n",
                            " 'Nothing has changed.',\n",
                            " 'You go to the berry seed.',\n",
                            " 'You are standing on the berry seed.']"
                        ]
                    },
                    "execution_count": 4,
                    "metadata": {},
                    "output_type": "execute_result"
                }
            ],
            "source": [
                "dict_data[lst_stat_rules[1]][\"grow any small_herbivorous\"][\"trajectories\"][0]"
            ]
        }
    ],
    "metadata": {
        "kernelspec": {
            "display_name": ".venv",
            "language": "python",
            "name": "python3"
        },
        "language_info": {
            "codemirror_mode": {
                "name": "ipython",
                "version": 3
            },
            "file_extension": ".py",
            "mimetype": "text/x-python",
            "name": "python",
            "nbconvert_exporter": "python",
            "pygments_lexer": "ipython3",
            "version": "3.10.12"
        }
    },
    "nbformat": 4,
    "nbformat_minor": 2
}
